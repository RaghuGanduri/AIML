{
 "cells": [
  {
   "cell_type": "code",
   "execution_count": 50,
   "metadata": {},
   "outputs": [],
   "source": [
    "#Write a Python Program to implement your own myreduce() function which works exactly like\n",
    "#Python's built-in function reduce()\n",
    "\n",
    "def myreduce(fun, sequence):\n",
    "    result=0\n",
    "    for i in range(len(sequence)):\n",
    "        a,b= (sequence[i],sequence[i+1]) if result==0 else (result, (sequence[i+1] if i+1<len(sequence) else 0)) \n",
    "        print(a,b)\n",
    "        result=fun(a,b)\n",
    "    return result\n",
    "        "
   ]
  },
  {
   "cell_type": "code",
   "execution_count": 51,
   "metadata": {},
   "outputs": [],
   "source": [
    "def findMax(a,b):\n",
    "    if (a>b):\n",
    "        return a\n",
    "    else:\n",
    "        return b"
   ]
  },
  {
   "cell_type": "code",
   "execution_count": 52,
   "metadata": {},
   "outputs": [
    {
     "name": "stdout",
     "output_type": "stream",
     "text": [
      "9 14\n",
      "14 5\n",
      "14 3\n",
      "14 7\n",
      "14 13\n",
      "14 0\n",
      "14\n"
     ]
    }
   ],
   "source": [
    "r = myreduce(findMax, [9,14,5,3,7,13])\n",
    "print(r)"
   ]
  },
  {
   "cell_type": "code",
   "execution_count": 53,
   "metadata": {},
   "outputs": [],
   "source": [
    "def findTotal(a,b):\n",
    "    return a+b   "
   ]
  },
  {
   "cell_type": "code",
   "execution_count": 54,
   "metadata": {},
   "outputs": [
    {
     "name": "stdout",
     "output_type": "stream",
     "text": [
      "3 5\n",
      "8 6\n",
      "14 7\n",
      "21 0\n",
      "21\n"
     ]
    }
   ],
   "source": [
    "r = myreduce(findTotal, [3,5,6,7])\n",
    "print(r)"
   ]
  },
  {
   "cell_type": "code",
   "execution_count": 55,
   "metadata": {},
   "outputs": [],
   "source": [
    "#Write a Python program to implement your own myfilter() function which works exactly like\n",
    "#Python's built-in function filter()\n",
    "\n",
    "def myfilter(fun, sequence):\n",
    "    filteredList=[]\n",
    "    for i in sequence:\n",
    "        if fun(i):\n",
    "            filteredList.append(i)\n",
    "    return filteredList        "
   ]
  },
  {
   "cell_type": "code",
   "execution_count": 56,
   "metadata": {},
   "outputs": [],
   "source": [
    "def even(n):\n",
    "    return n%2==0"
   ]
  },
  {
   "cell_type": "code",
   "execution_count": 57,
   "metadata": {},
   "outputs": [
    {
     "data": {
      "text/plain": [
       "[4, 6, 8]"
      ]
     },
     "execution_count": 57,
     "metadata": {},
     "output_type": "execute_result"
    }
   ],
   "source": [
    "l=myfilter(even, [3,4,5,6,7,8,9])\n",
    "l"
   ]
  },
  {
   "cell_type": "code",
   "execution_count": 58,
   "metadata": {},
   "outputs": [],
   "source": [
    "def odd(n):\n",
    "    return n%2!=0"
   ]
  },
  {
   "cell_type": "code",
   "execution_count": 59,
   "metadata": {},
   "outputs": [
    {
     "data": {
      "text/plain": [
       "[3, 5, 7, 9]"
      ]
     },
     "execution_count": 59,
     "metadata": {},
     "output_type": "execute_result"
    }
   ],
   "source": [
    "l=myfilter(odd, [3,4,5,6,7,8,9])\n",
    "l"
   ]
  },
  {
   "cell_type": "code",
   "execution_count": 65,
   "metadata": {},
   "outputs": [
    {
     "data": {
      "text/plain": [
       "['x', 'xx', 'xxx', 'xxxx', 'y', 'yy', 'yyy', 'yyyy', 'z', 'zz', 'zzz', 'zzzz']"
      ]
     },
     "execution_count": 65,
     "metadata": {},
     "output_type": "execute_result"
    }
   ],
   "source": [
    "#Write List comprehensions to produce the following List\n",
    "#['x', 'xx', 'xxx', 'xxxx', 'y', 'yy', 'yyy', 'yyyy', 'z', 'zz', 'zzz', 'zzzz']\n",
    "\n",
    "l=['x','y','z']\n",
    "result=[i*j for i in l for j in range(1,5)]\n",
    "result"
   ]
  },
  {
   "cell_type": "code",
   "execution_count": 66,
   "metadata": {},
   "outputs": [
    {
     "data": {
      "text/plain": [
       "['x', 'y', 'z', 'xx', 'yy', 'zz', 'xxx', 'yyy', 'zzz', 'xxxx', 'yyyy', 'zzzz']"
      ]
     },
     "execution_count": 66,
     "metadata": {},
     "output_type": "execute_result"
    }
   ],
   "source": [
    "#['x', 'y', 'z', 'xx', 'yy', 'zz', 'xx', 'yy', 'zz', 'xxxx', 'yyyy', 'zzzz']\n",
    "\n",
    "result=[i*j for j in range(1,5) for i in l]\n",
    "result"
   ]
  },
  {
   "cell_type": "code",
   "execution_count": 95,
   "metadata": {},
   "outputs": [
    {
     "data": {
      "text/plain": [
       "[[2], [3], [4], [3], [4], [5], [4], [5], [6]]"
      ]
     },
     "execution_count": 95,
     "metadata": {},
     "output_type": "execute_result"
    }
   ],
   "source": [
    "##[[2], [3], [4], [3], [4], [5], [4], [5], [6]]\n",
    "size=3\n",
    "l=[2,3,4,5,6]\n",
    "[[i] for j in range(3) for i in l[j:size+j] ]"
   ]
  },
  {
   "cell_type": "code",
   "execution_count": 96,
   "metadata": {},
   "outputs": [
    {
     "data": {
      "text/plain": [
       "[[2, 3, 4, 5], [3, 4, 5, 6], [4, 5, 6, 7], [5, 6, 7, 8]]"
      ]
     },
     "execution_count": 96,
     "metadata": {},
     "output_type": "execute_result"
    }
   ],
   "source": [
    "##[[2, 3, 4, 5], [3, 4, 5, 6], [4, 5, 6, 7], [5, 6, 7, 8]]\n",
    "\n",
    "size=4\n",
    "l=[2,3,4,5,6,7,8]\n",
    "[l[j:size+j] for j in range(size)]"
   ]
  },
  {
   "cell_type": "code",
   "execution_count": 97,
   "metadata": {},
   "outputs": [
    {
     "data": {
      "text/plain": [
       "[(1, 1), (2, 1), (3, 1), (1, 2), (2, 2), (3, 2), (1, 3), (2, 3), (3, 3)]"
      ]
     },
     "execution_count": 97,
     "metadata": {},
     "output_type": "execute_result"
    }
   ],
   "source": [
    "##[(1, 1), (2, 1), (3, 1), (1, 2), (2, 2), (3, 2), (1, 3), (2, 3), (3, 3)]\n",
    "l=[1,2,3]\n",
    "[ (i,j) for j in range(1,len(l)+1) for i in l]"
   ]
  },
  {
   "cell_type": "code",
   "execution_count": 98,
   "metadata": {},
   "outputs": [],
   "source": [
    "## Implement a function longestWord() that takes a list of words and returns the longest one.\n",
    "\n",
    "def longestWord(words):\n",
    "    max=0\n",
    "    longestWord=''\n",
    "    for wrd in words:\n",
    "        if (len(wrd)>max):\n",
    "            max=len(wrd)\n",
    "            longestWord=wrd\n",
    "    return longestWord"
   ]
  },
  {
   "cell_type": "code",
   "execution_count": 100,
   "metadata": {},
   "outputs": [
    {
     "name": "stdout",
     "output_type": "stream",
     "text": [
      "iNueron\n"
     ]
    }
   ],
   "source": [
    "longestword = longestWord(['Welcom','to','iNueron', 'world'])\n",
    "print(longestword)"
   ]
  },
  {
   "cell_type": "code",
   "execution_count": 101,
   "metadata": {},
   "outputs": [],
   "source": [
    "## Write a function filter_long_words() that takes a list of words and an integer n and returns the list\n",
    "##of words that are longer than n\n",
    "\n",
    "def filter_long_words(words,n):\n",
    "    longestWord=''\n",
    "    filteredList=[]\n",
    "    for wrd in words:\n",
    "        if (len(wrd)>n):\n",
    "            filteredList.append(wrd)\n",
    "    return filteredList"
   ]
  },
  {
   "cell_type": "code",
   "execution_count": 103,
   "metadata": {},
   "outputs": [
    {
     "name": "stdout",
     "output_type": "stream",
     "text": [
      "['Welcom', 'iNueron']\n"
     ]
    }
   ],
   "source": [
    "result = filter_long_words(['Welcom','to','iNueron', 'world'],5)\n",
    "print(result)"
   ]
  },
  {
   "cell_type": "code",
   "execution_count": 104,
   "metadata": {},
   "outputs": [],
   "source": [
    "##Write a Python program using function concept that maps list of words into a list of integers\n",
    "#representing the lengths of the corresponding words\n",
    "\n",
    "def wordLengths(l):\n",
    "    lengths=[]\n",
    "    for wrd in l:\n",
    "        lengths.append(len(wrd))\n",
    "    return lengths"
   ]
  },
  {
   "cell_type": "code",
   "execution_count": 105,
   "metadata": {},
   "outputs": [
    {
     "data": {
      "text/plain": [
       "[3, 11, 7]"
      ]
     },
     "execution_count": 105,
     "metadata": {},
     "output_type": "execute_result"
    }
   ],
   "source": [
    "l=wordLengths(['abc','Hello World', 'iNueron'])\n",
    "l\n",
    "l."
   ]
  },
  {
   "cell_type": "code",
   "execution_count": 112,
   "metadata": {},
   "outputs": [],
   "source": [
    "## Write a Python function which takes a character (i.e. a string of length 1) and returns True if it is\n",
    "##a vowel, False otherwise\n",
    "\n",
    "def isVowel(ch):\n",
    "   vowels=['a','e','i','o','u'] \n",
    "   cnt=vowels.count(ch.lower())\n",
    "   if(cnt>0):\n",
    "    return True\n",
    "   return False "
   ]
  },
  {
   "cell_type": "code",
   "execution_count": 115,
   "metadata": {},
   "outputs": [
    {
     "data": {
      "text/plain": [
       "True"
      ]
     },
     "execution_count": 115,
     "metadata": {},
     "output_type": "execute_result"
    }
   ],
   "source": [
    "isVowel('i')\n"
   ]
  },
  {
   "cell_type": "code",
   "execution_count": 116,
   "metadata": {},
   "outputs": [
    {
     "data": {
      "text/plain": [
       "False"
      ]
     },
     "execution_count": 116,
     "metadata": {},
     "output_type": "execute_result"
    }
   ],
   "source": [
    "isVowel('v')"
   ]
  }
 ],
 "metadata": {
  "kernelspec": {
   "display_name": "Python 3",
   "language": "python",
   "name": "python3"
  },
  "language_info": {
   "codemirror_mode": {
    "name": "ipython",
    "version": 3
   },
   "file_extension": ".py",
   "mimetype": "text/x-python",
   "name": "python",
   "nbconvert_exporter": "python",
   "pygments_lexer": "ipython3",
   "version": "3.7.6"
  }
 },
 "nbformat": 4,
 "nbformat_minor": 4
}
