{
 "cells": [
  {
   "cell_type": "code",
   "execution_count": 1,
   "metadata": {},
   "outputs": [],
   "source": [
    "##Write a function to compute 5/0 and use try/except to catch the exceptions\n",
    "\n",
    "def findDiv(a, b):\n",
    "    result=0\n",
    "    try:\n",
    "        result=int(a/b)\n",
    "    except ZeroDivisionError:\n",
    "        print(\"Number %s cannot be divisible by zero\" %(a))\n",
    "    else:\n",
    "        print(\"result=\",result)"
   ]
  },
  {
   "cell_type": "code",
   "execution_count": 2,
   "metadata": {},
   "outputs": [
    {
     "name": "stdout",
     "output_type": "stream",
     "text": [
      "5\n",
      "0\n",
      "Number 5 cannot be divisible by zero\n"
     ]
    }
   ],
   "source": [
    "a=int(input())\n",
    "b=int(input())\n",
    "findDiv(a,b)"
   ]
  },
  {
   "cell_type": "code",
   "execution_count": 3,
   "metadata": {},
   "outputs": [
    {
     "name": "stdout",
     "output_type": "stream",
     "text": [
      "10\n",
      "2\n",
      "result= 5\n"
     ]
    }
   ],
   "source": [
    "a=int(input())\n",
    "b=int(input())\n",
    "findDiv(a,b)"
   ]
  },
  {
   "cell_type": "code",
   "execution_count": 4,
   "metadata": {},
   "outputs": [
    {
     "name": "stdout",
     "output_type": "stream",
     "text": [
      "Americans  play Baseball\n",
      "\r\n",
      "Americans  play Cricket\n",
      "\r\n",
      "Americans  watch Baseball\n",
      "\r\n",
      "Americans  watch Cricket\n",
      "\r\n",
      "Indians play Baseball\n",
      "\r\n",
      "Indians play Cricket\n",
      "\r\n",
      "Indians watch Baseball\n",
      "\r\n",
      "Indians watch Cricket\n",
      "\r\n"
     ]
    }
   ],
   "source": [
    "#Implement a Python program to generate all sentences where subject is in [\"Americans\",\n",
    "#\"Indians\"] and verb is in [\"Play\", \"watch\"] and the object is in [\"Baseball\",\"cricket\"].\n",
    "\n",
    "subjects=[\"Americans \",\"Indians\"]\n",
    "verbs=[\"play\",\"watch\"]\n",
    "objects=[\"Baseball\",\"Cricket\"]\n",
    "\n",
    "for sub in subjects:\n",
    "    for verb in verbs:\n",
    "        for obj in objects:\n",
    "            print(sub+\" \"+verb+\" \"+obj+\"\\n\\r\")"
   ]
  },
  {
   "cell_type": "code",
   "execution_count": 5,
   "metadata": {},
   "outputs": [],
   "source": [
    "##Write a function so that the columns of the output matrix are powers of the input vector\n",
    "\n",
    "import numpy as np\n",
    "\n",
    "def inOutPowerMatrix(inputMatrix, n, incresingOrder):\n",
    "    if not incresingOrder:\n",
    "        outputMatrix = np.array([x**(n-1-i) for x in inputMatrix for i in range(n)]).reshape(inputMatrix.size, n)\n",
    "    else:\n",
    "        outputMatrix = np.array([x**i for x in inputMatrix for i in range(n)]).reshape(inputMatrix.size, n)\n",
    "    return outputMatrix"
   ]
  },
  {
   "cell_type": "code",
   "execution_count": 6,
   "metadata": {},
   "outputs": [
    {
     "name": "stdout",
     "output_type": "stream",
     "text": [
      "Increasing Order set to False\n",
      "[[  1   1   1   1   1]\n",
      " [ 16   8   4   2   1]\n",
      " [ 81  27   9   3   1]\n",
      " [256  64  16   4   1]\n",
      " [625 125  25   5   1]]\n",
      "Increasing Order set to True\n",
      "[[  1   1   1   1   1]\n",
      " [  1   2   4   8  16]\n",
      " [  1   3   9  27  81]\n",
      " [  1   4  16  64 256]\n",
      " [  1   5  25 125 625]]\n"
     ]
    }
   ],
   "source": [
    "inputMatrix=np.array([1,2,3,4,5])\n",
    "\n",
    "outputMatrix1 = inOutPowerMatrix(inputMatrix,5,False)\n",
    "print(\"Increasing Order set to False\")\n",
    "print(outputMatrix1)\n",
    "print(\"Increasing Order set to True\")\n",
    "outputMatrix2 = inOutPowerMatrix(inputMatrix,5,True)\n",
    "print(outputMatrix2)"
   ]
  },
  {
   "cell_type": "code",
   "execution_count": null,
   "metadata": {},
   "outputs": [],
   "source": []
  }
 ],
 "metadata": {
  "kernelspec": {
   "display_name": "Python 3",
   "language": "python",
   "name": "python3"
  },
  "language_info": {
   "codemirror_mode": {
    "name": "ipython",
    "version": 3
   },
   "file_extension": ".py",
   "mimetype": "text/x-python",
   "name": "python",
   "nbconvert_exporter": "python",
   "pygments_lexer": "ipython3",
   "version": "3.7.6"
  }
 },
 "nbformat": 4,
 "nbformat_minor": 4
}
